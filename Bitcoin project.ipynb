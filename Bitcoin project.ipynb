{
 "cells": [
  {
   "cell_type": "code",
   "execution_count": 237,
   "metadata": {},
   "outputs": [],
   "source": [
    "#ms = 20220410T0130  \n",
    "#dt = datetime.fromtimestamp(ms/1000.0)\n",
    "#dt"
   ]
  },
  {
   "cell_type": "code",
   "execution_count": null,
   "metadata": {},
   "outputs": [],
   "source": [
    "import requests\n",
    "import pandas as pd\n",
    "import numpy as np\n",
    "from datetime import datetime, timedelta\n",
    "from statistics import mean\n",
    "\n",
    "api_key = \"APCAF6OLCGOVGNUS\"\n",
    "url_interest = f'https://www.alphavantage.co/query?function=FEDERAL_FUNDS_RATE&interval=monthlytopics&apikey={api_key}'\n",
    "url_cpi = f'https://www.alphavantage.co/query?function=CPI&interval=monthly&apikey={api_key}'\n",
    "url_coffee = f'https://www.alphavantage.co/query?function=COFFEE&interval=monthly&apikey={api_key}'\n",
    "\n",
    "r1 = requests.get(url_interest)\n",
    "r2 = requests.get(url_cpi)\n",
    "r3 = requests.get(url_coffee)\n",
    "\n",
    "interest_rate = r1.json()\n",
    "cpi_us = r2.json()\n",
    "coffee = r3.json()\n",
    "\n",
    "\n",
    "print(interest_rate)\n",
    "print(cpi_us)\n",
    "print(coffee)"
   ]
  },
  {
   "cell_type": "code",
   "execution_count": 239,
   "metadata": {},
   "outputs": [],
   "source": [
    "#printing the API-Data from Alpha Vantage\n",
    "interest_rate = pd.DataFrame(interest_rate)\n",
    "cpi_us = pd.DataFrame(cpi_us)\n",
    "coffee = pd.DataFrame(coffee)"
   ]
  },
  {
   "cell_type": "code",
   "execution_count": null,
   "metadata": {},
   "outputs": [],
   "source": [
    "#extracting Data from nested dict (interest rate) Alpha Vantage\n",
    "values = [item[\"value\"] for item in interest_rate[\"data\"]]\n",
    "dates = [item[\"date\"] for item in interest_rate[\"data\"]]\n",
    "print(dates)\n",
    "print(values)"
   ]
  },
  {
   "cell_type": "code",
   "execution_count": 241,
   "metadata": {},
   "outputs": [],
   "source": [
    "#create the columns for interest rate\n",
    "interest_rate[\"us_interest_rate_%\"] = values\n",
    "interest_rate[\"Date\"] = dates"
   ]
  },
  {
   "cell_type": "code",
   "execution_count": null,
   "metadata": {},
   "outputs": [],
   "source": [
    "interest_rate"
   ]
  },
  {
   "cell_type": "code",
   "execution_count": 243,
   "metadata": {},
   "outputs": [],
   "source": [
    "interest_rate_clean = interest_rate.drop(columns = [\"data\", \"name\", \"interval\",\"unit\"])    "
   ]
  },
  {
   "cell_type": "code",
   "execution_count": null,
   "metadata": {},
   "outputs": [],
   "source": [
    "interest_rate_clean"
   ]
  },
  {
   "cell_type": "code",
   "execution_count": null,
   "metadata": {},
   "outputs": [],
   "source": [
    "#extracting Data from nested dict (cpi) Alpha Vantage\n",
    "values2 = [item[\"value\"] for item in cpi_us[\"data\"]]\n",
    "dates2 = [item[\"date\"] for item in cpi_us[\"data\"]]\n",
    "print(dates2)\n",
    "print(values2)"
   ]
  },
  {
   "cell_type": "code",
   "execution_count": 246,
   "metadata": {},
   "outputs": [],
   "source": [
    "cpi_us[\"cpi\"] = values2\n",
    "cpi_us[\"Date\"] = dates2"
   ]
  },
  {
   "cell_type": "code",
   "execution_count": null,
   "metadata": {},
   "outputs": [],
   "source": [
    "cpi_us"
   ]
  },
  {
   "cell_type": "code",
   "execution_count": null,
   "metadata": {},
   "outputs": [],
   "source": [
    "cpi_us_clean = cpi_us.drop(columns = [\"data\", \"name\", \"interval\",\"unit\"])\n",
    "cpi_us_clean"
   ]
  },
  {
   "cell_type": "code",
   "execution_count": null,
   "metadata": {},
   "outputs": [],
   "source": [
    "#extracting Data from nested dict (coffee) Alpha Vantage\n",
    "values3 = [item[\"value\"] for item in coffee[\"data\"]]\n",
    "dates3 = [item[\"date\"] for item in coffee[\"data\"]]\n",
    "print(dates3)\n",
    "print(values3)"
   ]
  },
  {
   "cell_type": "code",
   "execution_count": 250,
   "metadata": {},
   "outputs": [],
   "source": [
    "coffee[\"coffee_price/cents_per_pound\"] = values3\n",
    "coffee[\"Date\"] = dates3"
   ]
  },
  {
   "cell_type": "code",
   "execution_count": null,
   "metadata": {},
   "outputs": [],
   "source": [
    "coffee"
   ]
  },
  {
   "cell_type": "code",
   "execution_count": null,
   "metadata": {},
   "outputs": [],
   "source": [
    "coffee_clean = coffee.drop(columns = [\"data\", \"name\", \"interval\",\"unit\"])\n",
    "\n",
    "coffee_clean"
   ]
  },
  {
   "cell_type": "markdown",
   "metadata": {},
   "source": [
    "coffee_clean\n",
    "cpi_us_clean\n",
    "interest_rate_clean\n",
    "\n",
    "-> from API Alpha Vantage\n",
    "next step -> merge them all"
   ]
  },
  {
   "cell_type": "code",
   "execution_count": null,
   "metadata": {},
   "outputs": [],
   "source": [
    "path_btc = \"./btc.csv\"   #lokal path // need to be changed  \"C:\\Users\\rk-admin\\OneDrive\\Desktop\\DA_FT_FEB25_Ironhack-Bootcamp\\week3\\quest\\btc.csv\"\n",
    "btc_kaggle = pd.read_csv(path_btc)\n",
    "print (btc_kaggle.head())\n"
   ]
  },
  {
   "cell_type": "code",
   "execution_count": null,
   "metadata": {},
   "outputs": [],
   "source": [
    "btc_kaggle_clean = btc_kaggle.drop(columns = [\"Volume\"])\n",
    "cpi_us_clean = cpi_us.drop(columns = [\"data\", \"name\", \"interval\",\"unit\"])\n",
    "print (btc_kaggle_clean.head())\n",
    "\n"
   ]
  },
  {
   "cell_type": "code",
   "execution_count": 255,
   "metadata": {},
   "outputs": [],
   "source": [
    "final_df = btc_kaggle_clean\n",
    "final_df[\"Date\"] = pd.to_datetime(btc_kaggle_clean[\"Date\"])\n",
    "\n",
    "high_mean = final_df.groupby(final_df[\"Date\"].dt.to_period(\"M\"))[\"High\"].mean()\n",
    "low_mean = final_df.groupby(final_df[\"Date\"].dt.to_period(\"M\"))[\"Low\"].mean()\n",
    "open = final_df.groupby(final_df[\"Date\"].dt.to_period(\"M\"))[\"Open\"].first().reset_index()\n",
    "close = final_df.groupby(final_df[\"Date\"].dt.to_period(\"M\"))[\"Close\"].first().reset_index()\n",
    "\n",
    "high_mean.index = high_mean.index.to_timestamp()\n",
    "low_mean.index = low_mean.index.to_timestamp()\n",
    "\n",
    "open[\"Date\"] = open[\"Date\"].dt.to_timestamp()\n",
    "close[\"Date\"] = close[\"Date\"].dt.to_timestamp()\n",
    "\n",
    "high_mean = high_mean.reset_index().rename(columns={\"index\": \"Date\"})\n",
    "low_mean = low_mean.reset_index().rename(columns={\"index\": \"Date\"})\n"
   ]
  },
  {
   "cell_type": "code",
   "execution_count": null,
   "metadata": {},
   "outputs": [],
   "source": [
    "print (\"-------------high mean------------\")\n",
    "print(high_mean.head())\n",
    "print (\"----------------------------------\")\n",
    "\n",
    "print (\"-------------low mean-------------\")\n",
    "print(low_mean.head())\n",
    "print (\"----------------------------------\")\n",
    "\n",
    "print (\"-------------open btc-------------\")\n",
    "print(open.head())\n",
    "print (\"----------------------------------\")\n",
    "\n",
    "print (\"-------------close btc-------------\")\n",
    "print(close.head())\n",
    "print (\"-----------------------------------\")\n"
   ]
  },
  {
   "cell_type": "code",
   "execution_count": null,
   "metadata": {},
   "outputs": [],
   "source": [
    "\n",
    "#merging all the parsed data into one table\n",
    "btc_final = (\n",
    "    high_mean\n",
    "    .merge(low_mean, on=\"Date\", how=\"inner\")\n",
    "    .merge(open, on=\"Date\", how=\"inner\")\n",
    "    .merge(close, on=\"Date\", how=\"inner\")\n",
    ")\n",
    "\n",
    "#filtering by a limit date\n",
    "limit_lower_date = pd.to_datetime(\"2010-08-01\")\n",
    "limit_upper_date = pd.to_datetime(\"2023-12-01\")\n",
    "btc_final = btc_final[btc_final[\"Date\"] >= limit_lower_date]\n",
    "btc_final = btc_final[btc_final[\"Date\"] <= limit_upper_date]\n",
    "\n",
    "#sorting by date so the highest date shows first\n",
    "# btc_final = btc_final.sort_values(by=\"Date\", ascending=False)\n",
    "\n",
    "#rounding the numbers so it shows only one decimal\n",
    "btc_final[\"High\"] = btc_final[\"High\"].round(1)\n",
    "btc_final[\"Low\"] = btc_final[\"Low\"].round(1)\n",
    "\n",
    "print(btc_final.head())"
   ]
  },
  {
   "cell_type": "code",
   "execution_count": null,
   "metadata": {},
   "outputs": [],
   "source": [
    "coffee_clean[\"Date\"] = pd.to_datetime(coffee_clean[\"Date\"])\n",
    "\n",
    "coffee_final = coffee_clean[coffee_clean[\"Date\"] >= limit_lower_date]\n",
    "coffee_final = coffee_final[coffee_final[\"Date\"] <= limit_upper_date]\n",
    "\n",
    "print(coffee_final)"
   ]
  },
  {
   "cell_type": "code",
   "execution_count": null,
   "metadata": {},
   "outputs": [],
   "source": [
    "cpi_us_clean[\"Date\"] = pd.to_datetime(cpi_us_clean[\"Date\"])\n",
    "\n",
    "cpi_us_final = cpi_us_clean[cpi_us_clean[\"Date\"] >= limit_lower_date]\n",
    "cpi_us_final = cpi_us_final[cpi_us_final[\"Date\"] <= limit_upper_date]\n",
    "\n",
    "print(cpi_us_final)"
   ]
  },
  {
   "cell_type": "code",
   "execution_count": null,
   "metadata": {},
   "outputs": [],
   "source": [
    "interest_rate_clean[\"Date\"] = pd.to_datetime(interest_rate_clean[\"Date\"])\n",
    "\n",
    "interest_rate_final = interest_rate_clean[interest_rate_clean[\"Date\"] >= limit_lower_date]\n",
    "interest_rate_final = interest_rate_final[interest_rate_final[\"Date\"] <= limit_upper_date]\n",
    "\n",
    "print(interest_rate_final)\n"
   ]
  },
  {
   "cell_type": "code",
   "execution_count": null,
   "metadata": {},
   "outputs": [],
   "source": [
    "result = (\n",
    "    btc_final\n",
    "    .merge(cpi_us_final, on=\"Date\", how=\"inner\")\n",
    "    .merge(coffee_final, on=\"Date\", how=\"inner\")\n",
    "    .merge(interest_rate_final, on=\"Date\", how=\"inner\")\n",
    ")\n",
    "\n",
    "print(result)"
   ]
  },
  {
   "cell_type": "code",
   "execution_count": null,
   "metadata": {},
   "outputs": [],
   "source": [
    "path_coffee_btc = \"./gtrends_btc_coffee_xls.xlsx\"\n",
    "coffee_btc = pd.read_excel(path_coffee_btc)\n",
    "\n",
    "coffee_btc_clean = coffee_btc.rename(columns={\"month\": \"Date\"})\n",
    "\n",
    "coffee_btc_clean[\"Date\"] = pd.to_datetime((coffee_btc_clean[\"Date\"]))\n",
    "\n",
    "print(coffee_btc_clean.head())"
   ]
  },
  {
   "cell_type": "code",
   "execution_count": null,
   "metadata": {},
   "outputs": [],
   "source": [
    "coffee_btc_final = coffee_btc_clean[coffee_btc_clean[\"Date\"] >= limit_lower_date]\n",
    "coffee_btc_final = coffee_btc_final[coffee_btc_final[\"Date\"] <= limit_upper_date]\n",
    "\n",
    "coffee_btc_final = coffee_btc_final.sort_values(by=\"Date\", ascending=False)\n",
    "\n",
    "print(coffee_btc_final)"
   ]
  },
  {
   "cell_type": "code",
   "execution_count": null,
   "metadata": {},
   "outputs": [],
   "source": [
    "result = pd.merge(result, coffee_btc_final, on=\"Date\", how=\"inner\")\n",
    "\n",
    "print(result.head())"
   ]
  }
 ],
 "metadata": {
  "kernelspec": {
   "display_name": "base",
   "language": "python",
   "name": "python3"
  },
  "language_info": {
   "codemirror_mode": {
    "name": "ipython",
    "version": 3
   },
   "file_extension": ".py",
   "mimetype": "text/x-python",
   "name": "python",
   "nbconvert_exporter": "python",
   "pygments_lexer": "ipython3",
   "version": "3.12.7"
  }
 },
 "nbformat": 4,
 "nbformat_minor": 2
}
