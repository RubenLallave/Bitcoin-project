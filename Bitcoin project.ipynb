{
 "cells": [
  {
   "cell_type": "code",
   "execution_count": null,
   "metadata": {},
   "outputs": [],
   "source": [
    "#ms = 20220410T0130  \n",
    "#dt = datetime.fromtimestamp(ms/1000.0)\n",
    "#dt"
   ]
  },
  {
   "cell_type": "code",
   "execution_count": null,
   "metadata": {},
   "outputs": [],
   "source": [
    "import requests\n",
    "import pandas as pd\n",
    "import numpy as np\n",
    "from datetime import datetime, timedelta\n",
    "from statistics import mean\n",
    "\n",
    "api_key = \"APCAF6OLCGOVGNUS\"\n",
    "url_interest = f'https://www.alphavantage.co/query?function=FEDERAL_FUNDS_RATE&interval=monthlytopics&apikey={api_key}'\n",
    "url_cpi = f'https://www.alphavantage.co/query?function=CPI&interval=monthly&apikey={api_key}'\n",
    "url_coffee = f'https://www.alphavantage.co/query?function=COFFEE&interval=monthly&apikey={api_key}'\n",
    "\n",
    "r1 = requests.get(url_interest)\n",
    "r2 = requests.get(url_cpi)\n",
    "r3 = requests.get(url_coffee)\n",
    "\n",
    "data1 = r1.json()\n",
    "data2 = r2.json()\n",
    "data3 = r3.json()\n",
    "\n",
    "\n",
    "print(data1)\n",
    "print(data2)\n",
    "print(data3)"
   ]
  },
  {
   "cell_type": "code",
   "execution_count": null,
   "metadata": {},
   "outputs": [],
   "source": [
    "\n",
    "data1_table = pd.DataFrame(data1)\n",
    "data2_table = pd.DataFrame(data2)\n",
    "data3_table = pd.DataFrame(data3)"
   ]
  },
  {
   "cell_type": "code",
   "execution_count": null,
   "metadata": {},
   "outputs": [],
   "source": [
    "values = [item[\"value\"] for item in data1[\"data\"]]\n",
    "dates = [item[\"date\"] for item in data1[\"data\"]]\n",
    "print(dates)\n",
    "print(values)"
   ]
  },
  {
   "cell_type": "code",
   "execution_count": null,
   "metadata": {},
   "outputs": [],
   "source": [
    "data1_table[\"us_interest_rate_%\"] = values\n",
    "data1_table[\"dates\"] = dates"
   ]
  },
  {
   "cell_type": "code",
   "execution_count": null,
   "metadata": {},
   "outputs": [],
   "source": [
    "del data1_table[\"data\"]\n",
    "del data1_table[\"name\"]\n",
    "del data1_table[\"interval\"]\n",
    "del data1_table[\"unit\"]"
   ]
  },
  {
   "cell_type": "code",
   "execution_count": null,
   "metadata": {},
   "outputs": [],
   "source": [
    "data1_table"
   ]
  },
  {
   "cell_type": "code",
   "execution_count": null,
   "metadata": {},
   "outputs": [],
   "source": [
    "values2 = [item[\"value\"] for item in data2[\"data\"]]\n",
    "dates2 = [item[\"date\"] for item in data2[\"data\"]]\n",
    "print(dates2)\n",
    "print(values2)"
   ]
  },
  {
   "cell_type": "code",
   "execution_count": null,
   "metadata": {},
   "outputs": [],
   "source": [
    "data2_table[\"cpi\"] = values2\n",
    "data2_table[\"dates\"] = dates2"
   ]
  },
  {
   "cell_type": "code",
   "execution_count": null,
   "metadata": {},
   "outputs": [],
   "source": [
    "del data2_table[\"data\"]\n",
    "del data2_table[\"name\"]\n",
    "del data2_table[\"interval\"]\n",
    "del data2_table[\"unit\"]\n",
    "data2_table"
   ]
  },
  {
   "cell_type": "code",
   "execution_count": null,
   "metadata": {},
   "outputs": [],
   "source": [
    "data3_table"
   ]
  },
  {
   "cell_type": "code",
   "execution_count": null,
   "metadata": {},
   "outputs": [],
   "source": [
    "values3 = [item[\"value\"] for item in data3[\"data\"]]\n",
    "dates3 = [item[\"date\"] for item in data3[\"data\"]]\n",
    "print(dates3)\n",
    "print(values3)"
   ]
  },
  {
   "cell_type": "code",
   "execution_count": null,
   "metadata": {},
   "outputs": [],
   "source": [
    "data3_table"
   ]
  },
  {
   "cell_type": "code",
   "execution_count": null,
   "metadata": {},
   "outputs": [],
   "source": [
    "data3_table[\"coffee\"] = values3\n",
    "data3_table[\"dates\"] = dates3"
   ]
  },
  {
   "cell_type": "code",
   "execution_count": null,
   "metadata": {},
   "outputs": [],
   "source": [
    "url_k = \"./btc.csv\"\n",
    "df_kaggle = pd.read_csv(url_k)\n",
    "print (df_kaggle)\n"
   ]
  },
  {
   "cell_type": "code",
   "execution_count": null,
   "metadata": {},
   "outputs": [],
   "source": [
    "data3_table = pd.DataFrame(df_kaggle)"
   ]
  },
  {
   "cell_type": "code",
   "execution_count": null,
   "metadata": {},
   "outputs": [],
   "source": [
    "data3_table"
   ]
  },
  {
   "cell_type": "code",
   "execution_count": null,
   "metadata": {},
   "outputs": [],
   "source": []
  }
 ],
 "metadata": {
  "kernelspec": {
   "display_name": "base",
   "language": "python",
   "name": "python3"
  },
  "language_info": {
   "codemirror_mode": {
    "name": "ipython",
    "version": 3
   },
   "file_extension": ".py",
   "mimetype": "text/x-python",
   "name": "python",
   "nbconvert_exporter": "python",
   "pygments_lexer": "ipython3",
   "version": "3.12.7"
  }
 },
 "nbformat": 4,
 "nbformat_minor": 2
}
